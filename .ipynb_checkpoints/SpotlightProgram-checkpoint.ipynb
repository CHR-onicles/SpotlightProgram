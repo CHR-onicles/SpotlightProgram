{
 "cells": [
  {
   "cell_type": "markdown",
   "metadata": {},
   "source": [
    "### Import Statements"
   ]
  },
  {
   "cell_type": "code",
   "execution_count": 12,
   "metadata": {
    "scrolled": false
   },
   "outputs": [],
   "source": [
    "import os,shutil,send2trash,re\n",
    "from IPython.display import Image,display,clear_output"
   ]
  },
  {
   "cell_type": "markdown",
   "metadata": {},
   "source": [
    "### Functions"
   ]
  },
  {
   "cell_type": "code",
   "execution_count": 2,
   "metadata": {
    "scrolled": false
   },
   "outputs": [],
   "source": [
    "def rename_func():\n",
    "    \"\"\"\n",
    "    Function to ask user for new name of file.\n",
    "    returns y or n\n",
    "    \"\"\"\n",
    "    while True:\n",
    "        choice = input('Enter the new name for the file: ')\n",
    "        yes_or_no = input('\\nAre you sure?: [y/n] ')\n",
    "        if yes_or_no[0].lower() == 'y':\n",
    "            break\n",
    "        elif yes_or_no[0].lower() == 'n':\n",
    "            continue\n",
    "        else:\n",
    "            print('Invalid Response!')\n",
    "            continue\n",
    "    \n",
    "    return choice"
   ]
  },
  {
   "cell_type": "markdown",
   "metadata": {},
   "source": [
    "<hr>"
   ]
  },
  {
   "cell_type": "code",
   "execution_count": 3,
   "metadata": {
    "scrolled": false
   },
   "outputs": [],
   "source": [
    "def ask_to_rename_or_delete_or_skip(file):\n",
    "    \"\"\"\n",
    "    Function to ask user whether to delete, rename,\n",
    "    or skip a file.\n",
    "    \"\"\"\n",
    "    while True:\n",
    "        choice = input('Do you want to RENAME, DELETE or SKIP?: [r/d/s] ')\n",
    "        if choice[0].lower() == 'r':\n",
    "            return 'r'\n",
    "        elif choice[0].lower() == 'd':\n",
    "                send2trash.send2trash(file)\n",
    "                break\n",
    "        elif choice[0].lower() == 's':\n",
    "            return 's'\n",
    "        else:\n",
    "            print('Invalid Choice!')"
   ]
  },
  {
   "cell_type": "markdown",
   "metadata": {},
   "source": [
    "<hr>"
   ]
  },
  {
   "cell_type": "markdown",
   "metadata": {},
   "source": [
    "### Copying raw files from spotlight path to win folder <hr>"
   ]
  },
  {
   "cell_type": "code",
   "execution_count": 111,
   "metadata": {
    "scrolled": false
   },
   "outputs": [],
   "source": [
    "# changing OS directory to location of spotlight photos files\n",
    "\n",
    "os.chdir('C:\\\\Users\\\\tpand\\\\AppData\\\\Local\\\\Packages\\\\Microsoft.Windows.ContentDeliveryManager_cw5n1h2txyewy\\\\LocalState\\\\Assets')"
   ]
  },
  {
   "cell_type": "code",
   "execution_count": 112,
   "metadata": {
    "scrolled": false
   },
   "outputs": [],
   "source": [
    "# paths of win folder and spotlight photos files\n",
    "\n",
    "winpath = 'B:\\\\Desktop\\\\win'\n",
    "spotlight_path = ('C:\\\\Users\\\\tpand\\\\AppData\\\\Local\\\\Packages\\\\Microsoft.Windows.ContentDeliveryManager_cw5n1h2txyewy\\\\LocalState\\\\Assets\\\\')"
   ]
  },
  {
   "cell_type": "code",
   "execution_count": 113,
   "metadata": {
    "scrolled": false
   },
   "outputs": [],
   "source": [
    "# giving all raw files full path names for later copying operation\n",
    "\n",
    "files = [spotlight_path + os.listdir()[count] for count,fl in enumerate(os.listdir())] "
   ]
  },
  {
   "cell_type": "code",
   "execution_count": 114,
   "metadata": {
    "scrolled": false
   },
   "outputs": [
    {
     "name": "stdout",
     "output_type": "stream",
     "text": [
      "Copying all raw files successful!\n"
     ]
    }
   ],
   "source": [
    "# Copying raw files to win folder\n",
    "\n",
    "for f in files:\n",
    "    try:\n",
    "        shutil.copy(f,winpath)\n",
    "    except:\n",
    "        print('There was an Error while trying to copy the files!')\n",
    "else:\n",
    "    print('Copying all raw files successful!')"
   ]
  },
  {
   "cell_type": "markdown",
   "metadata": {},
   "source": [
    "<hr>"
   ]
  },
  {
   "cell_type": "markdown",
   "metadata": {},
   "source": [
    "### Looping through pictures, rename and delete on-the-go"
   ]
  },
  {
   "cell_type": "code",
   "execution_count": 118,
   "metadata": {
    "scrolled": false
   },
   "outputs": [],
   "source": [
    "os.chdir('B:\\\\Desktop\\\\win')"
   ]
  },
  {
   "cell_type": "code",
   "execution_count": 9,
   "metadata": {
    "scrolled": false
   },
   "outputs": [],
   "source": [
    "# converting all raw files to pictures (* + .png)"
   ]
  },
  {
   "cell_type": "code",
   "execution_count": null,
   "metadata": {
    "scrolled": false
   },
   "outputs": [],
   "source": [
    "win_files = []\n",
    "\n",
    "for count,file in enumerate(os.listdir()):\n",
    "    #if file.find('.png') == -1 or file.find('.jpg') == -1:\n",
    "    if file[-4] != '.':\n",
    "        win_files.append(winpath + '\\\\' + os.listdir()[count])\n",
    "    else:\n",
    "        continue\n",
    "\n",
    "#win_files"
   ]
  },
  {
   "cell_type": "code",
   "execution_count": 120,
   "metadata": {
    "scrolled": false
   },
   "outputs": [
    {
     "name": "stdout",
     "output_type": "stream",
     "text": [
      "All raw files converted to pictures!\n"
     ]
    }
   ],
   "source": [
    "# changing all raw files to pictures using byte-form (using os.rename)\n",
    "\n",
    "for count,f in enumerate(win_files):\n",
    "    os.rename(f,str(count) + '.png')\n",
    "print('All raw files converted to pictures!')"
   ]
  },
  {
   "cell_type": "code",
   "execution_count": 13,
   "metadata": {
    "scrolled": false
   },
   "outputs": [],
   "source": [
    "# now loop through files, rename or delete accordingly"
   ]
  },
  {
   "cell_type": "code",
   "execution_count": 121,
   "metadata": {
    "scrolled": false
   },
   "outputs": [],
   "source": [
    "new_win_files = os.listdir()"
   ]
  },
  {
   "cell_type": "code",
   "execution_count": 122,
   "metadata": {
    "scrolled": true
   },
   "outputs": [
    {
     "name": "stdout",
     "output_type": "stream",
     "text": [
      "All done now!\n"
     ]
    }
   ],
   "source": [
    "try:\n",
    "    for f in new_win_files:\n",
    "        if f[:4] == 'spot':\n",
    "            break\n",
    "        display(Image(f,width=400,height=300))\n",
    "        print(f)\n",
    "        print('\\n')\n",
    "\n",
    "        choice = ask_to_rename_or_delete_or_skip(f)\n",
    "        if choice == 'r':\n",
    "            os.rename(f,'spotlight_photos_' + rename_func() + '.png')\n",
    "        elif choice == 's':\n",
    "            clear_output()\n",
    "            continue\n",
    "        clear_output()\n",
    "except:\n",
    "    print('Problem encountered!')\n",
    "else:\n",
    "    print('All done now!')"
   ]
  },
  {
   "cell_type": "markdown",
   "metadata": {},
   "source": [
    "<hr>"
   ]
  },
  {
   "cell_type": "markdown",
   "metadata": {},
   "source": [
    "### transferring remaining pictures to wallpapers folder"
   ]
  },
  {
   "cell_type": "code",
   "execution_count": 18,
   "metadata": {
    "scrolled": false
   },
   "outputs": [],
   "source": [
    "ready_pics = os.listdir()"
   ]
  },
  {
   "cell_type": "code",
   "execution_count": 19,
   "metadata": {},
   "outputs": [],
   "source": [
    "wallpapers_path = 'B:\\\\Desktop\\\\Wallpapers'"
   ]
  },
  {
   "cell_type": "code",
   "execution_count": 20,
   "metadata": {
    "scrolled": false
   },
   "outputs": [
    {
     "name": "stdout",
     "output_type": "stream",
     "text": [
      "Files moved successfully!\n"
     ]
    }
   ],
   "source": [
    "try:\n",
    "    for file in ready_pics:\n",
    "        shutil.move( os.getcwd() + '\\\\' + file, wallpapers_path)\n",
    "except:\n",
    "    print('Failed moving files')\n",
    "else:\n",
    "    print('Files moved successfully!')"
   ]
  },
  {
   "cell_type": "markdown",
   "metadata": {},
   "source": [
    "<hr>"
   ]
  }
 ],
 "metadata": {
  "kernelspec": {
   "display_name": "Python 3",
   "language": "python",
   "name": "python3"
  },
  "language_info": {
   "codemirror_mode": {
    "name": "ipython",
    "version": 3
   },
   "file_extension": ".py",
   "mimetype": "text/x-python",
   "name": "python",
   "nbconvert_exporter": "python",
   "pygments_lexer": "ipython3",
   "version": "3.8.3"
  }
 },
 "nbformat": 4,
 "nbformat_minor": 4
}
